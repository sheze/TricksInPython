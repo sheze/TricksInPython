{
 "cells": [
  {
   "cell_type": "markdown",
   "metadata": {},
   "source": [
    "## Check current version is whether supported\n",
    "Since some older versions of Python are no longer supported\n",
    "It should be noted to update it\n",
    "\n",
    "So it is necessary to check the version before running code\n"
   ]
  },
  {
   "cell_type": "code",
   "execution_count": 1,
   "metadata": {},
   "outputs": [
    {
     "name": "stdout",
     "output_type": "stream",
     "text": [
      "Current python version is 3.7\n"
     ]
    }
   ],
   "source": [
    "import sys\n",
    "prevVersion = (2, 7)\n",
    "if not sys.version_info > prevVersion:\n",
    "    print(f\"The version {prevVersion} is no longer supported, please update immediately\")\n",
    "else:\n",
    "    print(f\"Current python version is {sys.version_info.major}.{sys.version_info.minor}\")"
   ]
  },
  {
   "cell_type": "markdown",
   "metadata": {},
   "source": [
    "# List expression\n",
    "Use expressions in list to multiple append operation with list\n",
    "\n",
    "Syntax : [expression for item in list if condition]\n",
    "\n",
    "Condition is used for filtering"
   ]
  },
  {
   "cell_type": "code",
   "execution_count": 2,
   "metadata": {},
   "outputs": [
    {
     "name": "stdout",
     "output_type": "stream",
     "text": [
      "[0, 1, 2, 3, 4]\n"
     ]
    }
   ],
   "source": [
    "def Functions(x):\n",
    "    return x // 2\n",
    "\n",
    "results = [Functions(i) for i in range(10) if i%2 == 0]\n",
    "print(results)"
   ]
  },
  {
   "cell_type": "markdown",
   "metadata": {},
   "source": [
    "# Check the space consuming\n",
    "When the space used by the objects or programs should be monitored\n",
    "\n",
    "The range is a generator actually, it do not provide all numbers one time\n",
    "\n",
    "But provide a number and operate addition before another production"
   ]
  },
  {
   "cell_type": "code",
   "execution_count": 3,
   "metadata": {},
   "outputs": [
    {
     "name": "stdout",
     "output_type": "stream",
     "text": [
      "The size of range object 48\n",
      "The size of list object 9024\n"
     ]
    }
   ],
   "source": [
    "import sys\n",
    "rangeObject = range(1000)\n",
    "print(f\"The size of range object {sys.getsizeof(rangeObject)}\")\n",
    "\n",
    "listObject  = [i for i in range(1000)]\n",
    "print(f\"The size of list object {sys.getsizeof(listObject)}\")"
   ]
  },
  {
   "cell_type": "markdown",
   "metadata": {},
   "source": [
    "# Multiple return values\n",
    "If the return values are more than one, they can be directly returned\n",
    "But you had better return a data class or tuple or directory\n",
    "Since it will not directly related the return value to the left part of expressions"
   ]
  },
  {
   "cell_type": "code",
   "execution_count": 4,
   "metadata": {},
   "outputs": [
    {
     "name": "stdout",
     "output_type": "stream",
     "text": [
      "('Python', 1)\n"
     ]
    }
   ],
   "source": [
    "def GetUser(id):\n",
    "    name = \"Python\"\n",
    "    rank = 1\n",
    "    # return {\"name\" : name, \"rank\" : 1}\n",
    "    return (name, rank)\n",
    "\n",
    "data = GetUser(1)\n",
    "print(data)"
   ]
  },
  {
   "cell_type": "markdown",
   "metadata": {},
   "source": [
    "# The data class starts from version-3.7\n",
    "It has several advanteges\n",
    "1. Less code work\n",
    "2. Comparison is allowed since dataclass provide __eq__ method\n",
    "3. It can be printed de to the overload on __repr__ method\n",
    "4. The data type must specified and it decrease the bugs"
   ]
  },
  {
   "cell_type": "code",
   "execution_count": 5,
   "metadata": {},
   "outputs": [
    {
     "name": "stdout",
     "output_type": "stream",
     "text": [
      "False\n",
      "Language(name='Python', rank=1)\n"
     ]
    }
   ],
   "source": [
    "from dataclasses import dataclass\n",
    "\n",
    "@dataclass\n",
    "class Language:\n",
    "    name : str\n",
    "    rank : int\n",
    "\n",
    "python = Language(\"Python\", 1)\n",
    "cpp    = Language(\"CPP\", 2)\n",
    "print(python == cpp)\n",
    "\n",
    "print(python)"
   ]
  },
  {
   "cell_type": "markdown",
   "metadata": {},
   "source": [
    "# Swap variable"
   ]
  },
  {
   "cell_type": "code",
   "execution_count": 6,
   "metadata": {},
   "outputs": [
    {
     "name": "stdout",
     "output_type": "stream",
     "text": [
      "2 1\n"
     ]
    }
   ],
   "source": [
    "a    = 1\n",
    "b    = 2\n",
    "a, b = b, a\n",
    "print(a, b)"
   ]
  },
  {
   "cell_type": "markdown",
   "metadata": {},
   "source": [
    "# Merge directories since version-3.5\n",
    "If the keywords are overlaped, the last one will overwrite"
   ]
  },
  {
   "cell_type": "code",
   "execution_count": 7,
   "metadata": {},
   "outputs": [
    {
     "name": "stdout",
     "output_type": "stream",
     "text": [
      "{'python': 2, 'cpp': 3, 'java': 1, 'jvascript': 3}\n"
     ]
    }
   ],
   "source": [
    "dict1  = {\"python\" : 1, \"cpp\" : 3, \"java\" : 2}\n",
    "dict2  = {\"python\" : 2, \"java\" : 1, \"jvascript\" : 3}\n",
    "merged = {**dict1, **dict2}\n",
    "print(merged)"
   ]
  },
  {
   "cell_type": "markdown",
   "metadata": {},
   "source": [
    "# Capitalize all first letters in words "
   ]
  },
  {
   "cell_type": "code",
   "execution_count": 8,
   "metadata": {},
   "outputs": [
    {
     "name": "stdout",
     "output_type": "stream",
     "text": [
      "The Less Is The Better\n"
     ]
    }
   ],
   "source": [
    "myString = \"The less is the better\"\n",
    "print(myString.title())"
   ]
  },
  {
   "cell_type": "markdown",
   "metadata": {},
   "source": [
    "# Split string into substring list\n",
    "BTW, you can specify the delimeters"
   ]
  },
  {
   "cell_type": "code",
   "execution_count": 9,
   "metadata": {},
   "outputs": [
    {
     "name": "stdout",
     "output_type": "stream",
     "text": [
      "['The', 'less', 'is', 'the', 'better']\n"
     ]
    }
   ],
   "source": [
    "myString   = \"The less is the better\"\n",
    "stringList = myString.split(\" \")\n",
    "print(stringList)"
   ]
  },
  {
   "cell_type": "markdown",
   "metadata": {},
   "source": [
    "# Create a string with a string list\n",
    "Also the delimeter can be specified"
   ]
  },
  {
   "cell_type": "code",
   "execution_count": 10,
   "metadata": {},
   "outputs": [
    {
     "name": "stdout",
     "output_type": "stream",
     "text": [
      "The God do not toss\n"
     ]
    }
   ],
   "source": [
    "stringList = [\"The\", \"God\", \"do\", \"not\", \"toss\"]\n",
    "myString   = \" \".join(stringList)\n",
    "print(myString)"
   ]
  },
  {
   "cell_type": "markdown",
   "metadata": {},
   "source": [
    "# Remove iteration with map\n",
    "The map function is used to avoid unnecessary iteration\n",
    "\n",
    "The map function has two inputs, the first one is function and the last one is iterable object\n",
    "\n",
    "It can be a list, array, director and so on\n",
    "\n",
    "Syntax : map(function, iterableObject)"
   ]
  },
  {
   "cell_type": "code",
   "execution_count": 11,
   "metadata": {},
   "outputs": [
    {
     "name": "stdout",
     "output_type": "stream",
     "text": [
      "['PYTHON', 'CPP', 'JAVA']\n"
     ]
    }
   ],
   "source": [
    "def upper(string):\n",
    "    return string.upper()\n",
    "\n",
    "myList = list(map(upper, [\"python\", \"cpp\", \"java\"]))\n",
    "print(myList)"
   ]
  },
  {
   "cell_type": "markdown",
   "metadata": {},
   "source": [
    "# Unique elements or count the same elements\n",
    "Based on the unique property of set"
   ]
  },
  {
   "cell_type": "code",
   "execution_count": 12,
   "metadata": {},
   "outputs": [
    {
     "name": "stdout",
     "output_type": "stream",
     "text": [
      "{1, 2, 3, 4, 5, 6}\n",
      "{'d', 'b', 'a', 'c', 'e'}\n",
      "1\n"
     ]
    }
   ],
   "source": [
    "myList = [1, 1, 1, 2, 2, 3, 3, 4, 5, 6]\n",
    "print(set(myList))\n",
    "\n",
    "print(set(\"aaaaabbbbbcccccddddeee\"))\n",
    "\n",
    "print(max(set(myList), key = myList.count))"
   ]
  },
  {
   "cell_type": "markdown",
   "metadata": {},
   "source": [
    "# Counting the elements\n",
    "Based on the Counter functions in collections"
   ]
  },
  {
   "cell_type": "code",
   "execution_count": 13,
   "metadata": {},
   "outputs": [
    {
     "name": "stdout",
     "output_type": "stream",
     "text": [
      "Counter({1: 3, 2: 2, 3: 2, 4: 1, 5: 1, 6: 1})\n"
     ]
    }
   ],
   "source": [
    "from collections import Counter\n",
    "myList = [1, 1, 1, 2, 2, 3, 3, 4, 5, 6]\n",
    "print(Counter(myList))"
   ]
  },
  {
   "cell_type": "markdown",
   "metadata": {},
   "source": [
    "# The link between two comparisons"
   ]
  },
  {
   "cell_type": "code",
   "execution_count": 14,
   "metadata": {},
   "outputs": [
    {
     "name": "stdout",
     "output_type": "stream",
     "text": [
      "True\n"
     ]
    }
   ],
   "source": [
    "x = 10\n",
    "if 5 < x < 15:\n",
    "    print(True)"
   ]
  }
 ],
 "metadata": {
  "kernelspec": {
   "display_name": "Python 3",
   "language": "python",
   "name": "python3"
  },
  "language_info": {
   "codemirror_mode": {
    "name": "ipython",
    "version": 3
   },
   "file_extension": ".py",
   "mimetype": "text/x-python",
   "name": "python",
   "nbconvert_exporter": "python",
   "pygments_lexer": "ipython3",
   "version": "3.7.0"
  }
 },
 "nbformat": 4,
 "nbformat_minor": 2
}
